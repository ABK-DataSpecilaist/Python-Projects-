{
 "cells": [
  {
   "cell_type": "code",
   "execution_count": null,
   "id": "4fcd5321-e240-4f57-968b-ce872ae216e7",
   "metadata": {},
   "outputs": [],
   "source": []
  }
 ],
 "metadata": {
  "kernelspec": {
   "display_name": "",
   "name": ""
  },
  "language_info": {
   "name": ""
  }
 },
 "nbformat": 4,
 "nbformat_minor": 5
}
